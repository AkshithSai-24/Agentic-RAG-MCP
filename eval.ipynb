{
 "cells": [
  {
   "cell_type": "code",
   "execution_count": 1,
   "id": "d94aff2b",
   "metadata": {},
   "outputs": [],
   "source": [
    "from datasets import Dataset \n",
    "import os\n",
    "from ragas import evaluate\n",
    "from ragas.metrics import (\n",
    "    faithfulness,\n",
    "    answer_relevancy,\n",
    "    context_recall\n",
    ")\n",
    "\n",
    "\n",
    "from IngestionAgent import IngestionAgent\n",
    "from RetrivalAgent import RetrievalAgent\n",
    "from LLMResponseAgent import LLMResponseAgent\n",
    "import unicodedata\n",
    "import os\n",
    "from dotenv import load_dotenv\n",
    "\n",
    "load_dotenv()\n",
    "\n",
    "from ragas.llms import LangchainLLMWrapper\n",
    "from langchain_google_genai import ChatGoogleGenerativeAI\n"
   ]
  },
  {
   "cell_type": "markdown",
   "id": "55ede45b",
   "metadata": {},
   "source": [
    "Docs on RAGS using Langchain : \n",
    "\n",
    "https://blog.langchain.com/evaluating-rag-pipelines-with-ragas-langsmith/\n",
    "\n"
   ]
  },
  {
   "cell_type": "code",
   "execution_count": 2,
   "id": "f467481f",
   "metadata": {},
   "outputs": [
    {
     "name": "stdout",
     "output_type": "stream",
     "text": [
      "[IngestionAgent] Starting ingestion for: ./Test/test.pdf\n",
      "[Document Loader] Loading 'test.pdf' with LangChain...\n",
      "[IngestionAgent] Successfully created 140 chunks from ./Test/test.pdf\n",
      "[RetrievalAgent] Initializing...\n",
      "[RetrievalAgent] Embeddings initialized successfully.\n",
      "Creating new FAISS store.\n",
      "[RetrievalAgent] Initialization complete.\n",
      "[RetrievalAgent] Adding 140 chunks to FAISS.\n",
      "[RetrievalAgent] Vector store updated.\n"
     ]
    }
   ],
   "source": [
    "\n",
    "test_file_path = \"./Test/test.pdf\"\n",
    "\n",
    "\n",
    "ingestion_agent = IngestionAgent()\n",
    "document_chunks = ingestion_agent.run(test_file_path)\n",
    "\n",
    "retrieval_agent = RetrievalAgent()\n",
    "retrieval_agent.add_documents(document_chunks) \n",
    "retriever = retrieval_agent.get_retriever(search_kwargs={\"k\": 3})\n",
    "\n",
    "\n",
    "llm_agent = LLMResponseAgent(retriever=retriever)\n",
    "\n"
   ]
  },
  {
   "cell_type": "code",
   "execution_count": 3,
   "id": "ae6b0aa7",
   "metadata": {},
   "outputs": [],
   "source": [
    "data_samples = {\n",
    "    'question': [\n",
    "        'What is Cloud Computing?', \n",
    "        'List Cloud Deployment Models?'\n",
    "    ],\n",
    "    \n",
    "    'ground_truth': [\n",
    "        'Cloud computing is the delivery of computing services – like servers, storage, databases, networking, software, analytics, and intelligence  over the internet', \n",
    "        'List Cloud Deployment Models?'\n",
    "    ]\n",
    "}\n",
    "data_samples[\"answer\"] = []\n",
    "data_samples[\"contexts\"] = []\n"
   ]
  },
  {
   "cell_type": "code",
   "execution_count": 4,
   "id": "0fa09e3c",
   "metadata": {},
   "outputs": [
    {
     "name": "stdout",
     "output_type": "stream",
     "text": [
      "[LLMResponseAgent] Answering question: 'What is Cloud Computing?'\n",
      "[LLMResponseAgent] Answering question: 'List Cloud Deployment Models?'\n"
     ]
    },
    {
     "data": {
      "text/plain": [
       "{'question': ['What is Cloud Computing?', 'List Cloud Deployment Models?'],\n",
       " 'ground_truth': ['Cloud computing is the delivery of computing services – like servers, storage, databases, networking, software, analytics, and intelligence  over the internet',\n",
       "  'List Cloud Deployment Models?'],\n",
       " 'answer': ['Based on the National Institute of Standards and Technology (NIST), cloud computing is defined as “a model for enabling ubiquitous, convenient, on-demand network access to a shared pool of configurable computing resources (e.g., networks, servers, storage, applications, and services) that can be rapidly provisioned and released with minimal management effort or service provider interaction”.',\n",
       "  'The cloud deployment models are:\\n*   Private cloud\\n*   Hybrid cloud\\n*   Community cloud\\n*   Public cloud'],\n",
       " 'contexts': [['automated and more efﬁcient; compared to manual and physical\\nprovision, it may reach a near real-time provision.\\nData centers that are used to host the three services (IaaS,\\nPaaS, SaaS) based on the utilization of the virtualization\\ntechnology embody what is called now cloud computing\\n[5]. Figure 2 shows these services. Based on the\\nNational Institute of Standards and Technology (NIST), cloud\\ncomputing is deﬁned as “a model for enabling ubiquitous,\\nconvenient, on-demand network access to a shared pool of\\nconﬁgurable computing resources (e.g., networks, servers,\\nstorage, applications, and services) that can be rapidly\\nprovisioned and released with minimal management effort or\\nservice provider interaction” [59].\\nFigure 2: Services provided by cloud computing [15]\\nOrganizations that provide cloud services are called service\\nproviders, while customers who use these services are called\\ncloud users. In fact, service providers may also be service',\n",
       "   '8 IJCA, V ol. 28, No. 1, March 2021\\noperating systems and applications. However, users do not\\nhave the ability to manage the underlying cloud infrastructure.\\nIn particular, it is a collection of hardware and software that\\nenables the special characteristics of cloud computing. IaaS\\nincludes virtual machines, servers, storage, load balancer, a\\nnetwork [36], and may include an operating system [74].\\nOn the top of IaaS, Platform as a Service (PaaS) is provided.\\nPaaS is a service that enables its users to build and/or deploy\\ntheir applications using language, libraries, services and tools\\nprovided by PaaS providers on a cloud platform. As we might\\nexpect, PaaS users do not have any control over the platform\\nor cloud infrastructure. However, they have control over their\\napplication’s management [59]. PaaS may include execution\\nruntime, database, web servers, and development tools [36, 74].\\nSoftware as a Service (SaaS) is deﬁned as the applications',\n",
       "   'Organizations that provide cloud services are called service\\nproviders, while customers who use these services are called\\ncloud users. In fact, service providers may also be service\\nusers at the same time. For example, an online software\\nservice provider (SaaS provider) for a student information\\nsystem may host their applications on other organization’s cloud\\ninfrastructure such as Amazon EC2 (IaaS provider) and be a\\ncloud user (IaaS user) at the same time.\\nCloud can be deployed in four categories: (i) private\\ncloud, which is exclusively used and accessed by a speciﬁc\\norganization, (ii) community cloud, which can be exclusively\\naccessed and used by a community, such as the large datasets'],\n",
       "  ['deploy their Internet applications and support rapid scalability\\nand monitoring [59]. This model is a popular type of cloud\\ndeployment model among individuals and small to medium\\nbusinesses. On the other hand, hybrid cloud is preferred for\\nenterprises [74].\\n2.3 Service Delivery Models\\nCloud computing provides services in different service\\ndelivery models. Even though there is a uniﬁed classiﬁcation for\\nthese services, for now we will go through NIST service models,\\nwhich are Infrastructure as a Service, Platform as a Service, and\\nSoftware as a Service [59]. These delivery models are shown in\\nFigure 6.\\nFigure 6: Cloud computing services delivery models [41]\\nInfrastructure as a Service (IaaS) provides the lowest level of\\nservices from cloud providers to cloud user (consumers). IaaS\\nincludes services such as computation, storage, networks, and\\nany other fundamental infrastructure. In this model, cloud users\\nwill be able to install and deploy arbitrary software including',\n",
       "   'of cloud computing technologies (e.g., virtualization), and the\\npossibility to be run and managed by third party organizations\\nare key differences [59]. An example is a virtual data center\\nbuilt by a bank to deploy a core banking system.\\nA community cloud has a broader audience beyond the same\\norganization. It serves a group of users who share common\\ninterests and concerns. For example, satellite image datasets\\nand tools may be deployed on speciﬁc data centers managed\\nby NASA or the National Science Foundation in the USA, to\\nenable domain and data scientists to perform big-data analytics\\non these data sets [59].\\nIn the public cloud, services are open to the general public\\non the pay-as-you-go model for open use. An example of this\\nis the public hosting providers, which can enable businesses to\\ndeploy their Internet applications and support rapid scalability\\nand monitoring [59]. This model is a popular type of cloud\\ndeployment model among individuals and small to medium',\n",
       "   '6 IJCA, V ol. 28, No. 1, March 2021\\ndifference between these deployment models is the target\\naudience and public accessibility. More details about cloud\\ndeployment models are discussed in Section 2.2. However, for\\nthe rest of this article, the focus is on public and community\\nclouds (assuming community is publicly accessible).\\nWith cloud computing, several data centers will be turned\\ninto a single pool of computing utilities, which will enable\\nthe illusion of inﬁnite resources. Cloud computing can deliver\\nservices using three different models: Infrastructure as a Service\\n(IaaS), Platform as a Service (PaaS), and Software as a Service\\n(SaaS). The sum of these services, data centers they operate on,\\nand the software that runs and manages these data centers, is\\ncalled “The Cloud” [5]. These three service delivery models are\\ndiscussed in detail in Section 2.3.\\nAs shown in Figure 5, the entities on which providers of cloud\\nservices operate are called cloud providers, and the entities']]}"
      ]
     },
     "execution_count": 4,
     "metadata": {},
     "output_type": "execute_result"
    }
   ],
   "source": [
    "for question in data_samples['question']:\n",
    "    response = llm_agent.run(question)\n",
    "    result = unicodedata.normalize('NFKC', response['result'])\n",
    "    data_samples[\"answer\"].append(result)\n",
    "    data_samples[\"contexts\"].append([source.page_content for source in response[\"source_documents\"]])\n",
    "\n",
    "data_samples"
   ]
  },
  {
   "cell_type": "code",
   "execution_count": 5,
   "id": "6ee747a0",
   "metadata": {},
   "outputs": [],
   "source": [
    "gemini_llm = llm_agent.llm # or your specific Gemini model\n",
    "\n",
    "# Wrap Gemini LLM for Ragas\n",
    "ragas_llm = LangchainLLMWrapper(gemini_llm)\n",
    "\n",
    "# Set the LLM for each metric\n",
    "faithfulness.llm = ragas_llm\n",
    "answer_relevancy.llm = ragas_llm\n",
    "context_recall.llm = ragas_llm\n",
    "\n",
    "metrics = [faithfulness, answer_relevancy, context_recall]"
   ]
  },
  {
   "cell_type": "code",
   "execution_count": 6,
   "id": "4df7d33b",
   "metadata": {},
   "outputs": [
    {
     "data": {
      "application/vnd.jupyter.widget-view+json": {
       "model_id": "065680c354f64375b97ba852af71996b",
       "version_major": 2,
       "version_minor": 0
      },
      "text/plain": [
       "Evaluating:   0%|          | 0/6 [00:00<?, ?it/s]"
      ]
     },
     "metadata": {},
     "output_type": "display_data"
    }
   ],
   "source": [
    "dataset = Dataset.from_dict(data_samples)\n",
    "\n",
    "score = evaluate(dataset, metrics=metrics, llm=ragas_llm,embeddings=retrieval_agent.embeddings)\n",
    "df = score.to_pandas()\n",
    "df.to_csv('score.csv', index=False)"
   ]
  },
  {
   "cell_type": "code",
   "execution_count": 7,
   "id": "a6ccabcd",
   "metadata": {},
   "outputs": [
    {
     "data": {
      "text/html": [
       "<div>\n",
       "<style scoped>\n",
       "    .dataframe tbody tr th:only-of-type {\n",
       "        vertical-align: middle;\n",
       "    }\n",
       "\n",
       "    .dataframe tbody tr th {\n",
       "        vertical-align: top;\n",
       "    }\n",
       "\n",
       "    .dataframe thead th {\n",
       "        text-align: right;\n",
       "    }\n",
       "</style>\n",
       "<table border=\"1\" class=\"dataframe\">\n",
       "  <thead>\n",
       "    <tr style=\"text-align: right;\">\n",
       "      <th></th>\n",
       "      <th>user_input</th>\n",
       "      <th>retrieved_contexts</th>\n",
       "      <th>response</th>\n",
       "      <th>reference</th>\n",
       "      <th>faithfulness</th>\n",
       "      <th>answer_relevancy</th>\n",
       "      <th>context_recall</th>\n",
       "    </tr>\n",
       "  </thead>\n",
       "  <tbody>\n",
       "    <tr>\n",
       "      <th>0</th>\n",
       "      <td>What is Cloud Computing?</td>\n",
       "      <td>[automated and more efﬁcient; compared to manu...</td>\n",
       "      <td>Based on the National Institute of Standards a...</td>\n",
       "      <td>Cloud computing is the delivery of computing s...</td>\n",
       "      <td>1.00</td>\n",
       "      <td>0.847335</td>\n",
       "      <td>1.0</td>\n",
       "    </tr>\n",
       "    <tr>\n",
       "      <th>1</th>\n",
       "      <td>List Cloud Deployment Models?</td>\n",
       "      <td>[deploy their Internet applications and suppor...</td>\n",
       "      <td>The cloud deployment models are:\\n*   Private ...</td>\n",
       "      <td>List Cloud Deployment Models?</td>\n",
       "      <td>0.75</td>\n",
       "      <td>0.947626</td>\n",
       "      <td>0.0</td>\n",
       "    </tr>\n",
       "  </tbody>\n",
       "</table>\n",
       "</div>"
      ],
      "text/plain": [
       "                      user_input  \\\n",
       "0       What is Cloud Computing?   \n",
       "1  List Cloud Deployment Models?   \n",
       "\n",
       "                                  retrieved_contexts  \\\n",
       "0  [automated and more efﬁcient; compared to manu...   \n",
       "1  [deploy their Internet applications and suppor...   \n",
       "\n",
       "                                            response  \\\n",
       "0  Based on the National Institute of Standards a...   \n",
       "1  The cloud deployment models are:\\n*   Private ...   \n",
       "\n",
       "                                           reference  faithfulness  \\\n",
       "0  Cloud computing is the delivery of computing s...          1.00   \n",
       "1                      List Cloud Deployment Models?          0.75   \n",
       "\n",
       "   answer_relevancy  context_recall  \n",
       "0          0.847335             1.0  \n",
       "1          0.947626             0.0  "
      ]
     },
     "execution_count": 7,
     "metadata": {},
     "output_type": "execute_result"
    }
   ],
   "source": [
    "df.head()"
   ]
  }
 ],
 "metadata": {
  "kernelspec": {
   "display_name": "Python 3",
   "language": "python",
   "name": "python3"
  },
  "language_info": {
   "codemirror_mode": {
    "name": "ipython",
    "version": 3
   },
   "file_extension": ".py",
   "mimetype": "text/x-python",
   "name": "python",
   "nbconvert_exporter": "python",
   "pygments_lexer": "ipython3",
   "version": "3.11.3"
  }
 },
 "nbformat": 4,
 "nbformat_minor": 5
}
